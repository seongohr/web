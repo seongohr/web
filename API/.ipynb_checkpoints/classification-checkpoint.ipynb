{
 "cells": [
  {
   "cell_type": "code",
   "execution_count": 157,
   "metadata": {},
   "outputs": [],
   "source": [
    "import pandas as pd\n",
    "import re"
   ]
  },
  {
   "cell_type": "code",
   "execution_count": null,
   "metadata": {},
   "outputs": [],
   "source": []
  },
  {
   "cell_type": "code",
   "execution_count": 168,
   "metadata": {},
   "outputs": [
    {
     "name": "stderr",
     "output_type": "stream",
     "text": [
      "ERROR:root:Internal Python error in the inspect module.\n",
      "Below is the traceback from this internal error.\n",
      "\n"
     ]
    },
    {
     "name": "stdout",
     "output_type": "stream",
     "text": [
      "Traceback (most recent call last):\n",
      "  File \"/Users/seongohryoo/anaconda3/envs/tensorflow/lib/python3.6/site-packages/IPython/core/interactiveshell.py\", line 3325, in run_code\n",
      "    exec(code_obj, self.user_global_ns, self.user_ns)\n",
      "  File \"<ipython-input-168-720e359928b3>\", line 3, in <module>\n",
      "    with open(filepath, encoding = \"ISO-8859-1\", newline='') as f:\n",
      "FileNotFoundError: [Errno 2] No such file or directory: 'ra_data_classifier.csv'\n",
      "\n",
      "During handling of the above exception, another exception occurred:\n",
      "\n",
      "Traceback (most recent call last):\n",
      "  File \"/Users/seongohryoo/anaconda3/envs/tensorflow/lib/python3.6/site-packages/IPython/core/interactiveshell.py\", line 2039, in showtraceback\n",
      "    stb = value._render_traceback_()\n",
      "AttributeError: 'FileNotFoundError' object has no attribute '_render_traceback_'\n",
      "\n",
      "During handling of the above exception, another exception occurred:\n",
      "\n",
      "Traceback (most recent call last):\n",
      "  File \"/Users/seongohryoo/anaconda3/envs/tensorflow/lib/python3.6/site-packages/IPython/core/ultratb.py\", line 1101, in get_records\n",
      "    return _fixed_getinnerframes(etb, number_of_lines_of_context, tb_offset)\n",
      "  File \"/Users/seongohryoo/anaconda3/envs/tensorflow/lib/python3.6/site-packages/IPython/core/ultratb.py\", line 319, in wrapped\n",
      "    return f(*args, **kwargs)\n",
      "  File \"/Users/seongohryoo/anaconda3/envs/tensorflow/lib/python3.6/site-packages/IPython/core/ultratb.py\", line 353, in _fixed_getinnerframes\n",
      "    records = fix_frame_records_filenames(inspect.getinnerframes(etb, context))\n",
      "  File \"/Users/seongohryoo/anaconda3/envs/tensorflow/lib/python3.6/inspect.py\", line 1490, in getinnerframes\n",
      "    frameinfo = (tb.tb_frame,) + getframeinfo(tb, context)\n",
      "  File \"/Users/seongohryoo/anaconda3/envs/tensorflow/lib/python3.6/inspect.py\", line 1448, in getframeinfo\n",
      "    filename = getsourcefile(frame) or getfile(frame)\n",
      "  File \"/Users/seongohryoo/anaconda3/envs/tensorflow/lib/python3.6/inspect.py\", line 696, in getsourcefile\n",
      "    if getattr(getmodule(object, filename), '__loader__', None) is not None:\n",
      "  File \"/Users/seongohryoo/anaconda3/envs/tensorflow/lib/python3.6/inspect.py\", line 725, in getmodule\n",
      "    file = getabsfile(object, _filename)\n",
      "  File \"/Users/seongohryoo/anaconda3/envs/tensorflow/lib/python3.6/inspect.py\", line 709, in getabsfile\n",
      "    return os.path.normcase(os.path.abspath(_filename))\n",
      "  File \"/Users/seongohryoo/anaconda3/envs/tensorflow/lib/python3.6/posixpath.py\", line 383, in abspath\n",
      "    cwd = os.getcwd()\n",
      "FileNotFoundError: [Errno 2] No such file or directory\n"
     ]
    },
    {
     "ename": "FileNotFoundError",
     "evalue": "[Errno 2] No such file or directory: 'ra_data_classifier.csv'",
     "output_type": "error",
     "traceback": [
      "\u001b[0;31m---------------------------------------------------------------------------\u001b[0m"
     ]
    }
   ],
   "source": [
    "# def read_file(filepath):\n",
    "filepath = 'ra_data_classifier.csv'\n",
    "with open(filepath, encoding = \"ISO-8859-1\", newline='') as f:\n",
    "    main_data = pd.read_csv(f)\n",
    "    main_data.head()"
   ]
  },
  {
   "cell_type": "code",
   "execution_count": 154,
   "metadata": {},
   "outputs": [
    {
     "name": "stdout",
     "output_type": "stream",
     "text": [
      "A has monthly rent fee monthly rent , $340+ / month\n"
     ]
    }
   ],
   "source": [
    "def clean_text(text):\n",
    "    \"\"\"\n",
    "    pre-processing on the given text.\n",
    "    \n",
    "    Steps:\n",
    "    - Removing punctuation\n",
    "    - Lowering text\n",
    "    \"\"\"\n",
    "    # remove leading and trailing whitespaces, newline and tab characters\n",
    "    text = text.strip()\n",
    "    # replace punctuation characters with spaces\n",
    "    filters = '!\"\\'#%&()*+,-./:;<=>?@[\\\\]^_`{|}~\\t\\n'\n",
    "    \n",
    "    \n",
    "    # replace \"$numeric / month\" or \"\"$numeric/month\" to rent \n",
    "    p = re.compile(r'(?:\\$\\d+\\/)month|(?:\\$\\d+\\s+\\/\\s+)month|(?:\\$\\d+\\s+\\/\\s+)m|(?:\\$\\d+\\/)m')\n",
    "    print(p.sub(\"monthly rent\", text))\n",
    "    \n",
    "    \n",
    "\n",
    "    \n",
    "\n",
    "clean_text(\"A has $350/month fee $459 / month , $340+ / month\")\n",
    "# clean_text(\"\\n\\n\\n\\n\\n\\n\\t\\t\\t\\t\\t\\ta moving house\")\n",
    "    \n",
    "    \n",
    "    "
   ]
  },
  {
   "cell_type": "code",
   "execution_count": 139,
   "metadata": {},
   "outputs": [],
   "source": [
    "#     text = re.sub(r\"$/d+\\s\\/\\s\", text)    \n",
    "    \n",
    "    # remove the chracters [\\], ['] and [\"]\n",
    "#     text = re.sub(r\"\\\\\", \"\", text)\n",
    "#     text = re.sub(r\"\\'\", \"\", text)\n",
    "#     text = re.sub(r\"\\\"\", \"\", text)\n",
    "    \n",
    "    # convert text to lowercase\n",
    "#     text = text.strip().lower()\n",
    "    \n"
   ]
  },
  {
   "cell_type": "code",
   "execution_count": null,
   "metadata": {},
   "outputs": [],
   "source": []
  }
 ],
 "metadata": {
  "kernelspec": {
   "display_name": "Python 3.6 (tensorflow)",
   "language": "python",
   "name": "tensorflow"
  },
  "language_info": {
   "codemirror_mode": {
    "name": "ipython",
    "version": 3
   },
   "file_extension": ".py",
   "mimetype": "text/x-python",
   "name": "python",
   "nbconvert_exporter": "python",
   "pygments_lexer": "ipython3",
   "version": "3.6.8"
  }
 },
 "nbformat": 4,
 "nbformat_minor": 2
}
